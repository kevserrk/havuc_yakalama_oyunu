{
 "cells": [
  {
   "cell_type": "code",
   "execution_count": 14,
   "id": "43e98297-386c-452a-84e4-c03285938eba",
   "metadata": {},
   "outputs": [],
   "source": [
    "# Grafik ve pencere çıktılarının ayrı bir pencerede açılması ,OpenCV  pencere oluşturması sağlanıyor\n",
    "%matplotlib qt"
   ]
  },
  {
   "cell_type": "code",
   "execution_count": 15,
   "id": "eefaa147-d00d-42a2-a245-d15a30c76db4",
   "metadata": {},
   "outputs": [],
   "source": [
    "# Gerekli kütüphanelerin eklenmesi\n",
    "import cv2\n",
    "import numpy as np\n",
    "import math\n",
    "import random"
   ]
  },
  {
   "cell_type": "code",
   "execution_count": 16,
   "id": "cd902958-741c-40a4-aba4-b21c5f6cbf7e",
   "metadata": {},
   "outputs": [],
   "source": [
    "# Ekran genişliği ve yüksekliği ayarlama (piksel cinsinden)\n",
    "W, H = 800, 600                 # ekran boyutu\n",
    "\n",
    "# Arka plan rengi ayarlama\n",
    "BGCOLOR = (25, 25, 25) \n",
    "\n",
    "# Havuç ve tavşan çizimleri için yarıçap değerleri (piksel cinsinden)\n",
    "HAVUC_Y = 16                    # havuç yarıçapı (çarpışma için)\n",
    "TAVSAN_Y = 22                   # tavşan yarıçapı (çarpışma için)\n",
    "\n",
    "# Havuç hızının rastgele seçileceği aralık (piksel / kare)\n",
    "SPEED_MIN, SPEED_MAX = 3.0, 7.0 # havuç hız aralığı (px/frame)\n",
    "\n",
    "# Ekrana yazı yazarken kullanılacak font\n",
    "FONT = cv2.FONT_HERSHEY_SIMPLEX\n",
    "\n",
    "# Havucun konumu, yönü, hızının rastgeleliği için\n",
    "random.seed()\n",
    "\n",
    "# Farenin konumu (başlangıçta ekranın ortası olarak ayarladım)\n",
    "mouse_x, mouse_y = W / 2, H / 2"
   ]
  },
  {
   "cell_type": "code",
   "execution_count": 17,
   "id": "8a73472b-76e9-4851-9b07-36209403ae66",
   "metadata": {},
   "outputs": [],
   "source": [
    "# Fare koordinatları için callback fonksiyonu\n",
    "# Bu fonksiyon sayesinde fare ekranda hareket ettikçe tavşanın konumu güncellenir.\n",
    "def mouse_callback(event, x, y, flags, param):\n",
    "    # mouse_x ve mouse_y değişkenlerini burada güncelleyeceğimiz için global olarak tanımlarız\n",
    "    global mouse_x, mouse_y\n",
    "    # Eğer fare hareket ederse (MOUSEMOVE olayı gerçekleşirse), fare imlecinin yeni (x, y) koordinatlarını alıp tavşanın konumuna aktarırız.\n",
    "    if event == cv2.EVENT_MOUSEMOVE:\n",
    "        mouse_x, mouse_y = x, y"
   ]
  },
  {
   "cell_type": "code",
   "execution_count": 18,
   "id": "bc0edd40-551c-4ab7-9158-1eb526837822",
   "metadata": {},
   "outputs": [],
   "source": [
    "# Yeni oluşacak havucun konumu (rastgele konum + rastgele yönde rastgele hız)\n",
    "def random_havuc():\n",
    "    # Havucun rastgele konumu \n",
    "    x = random.randint(HAVUC_Y , W - HAVUC_Y )\n",
    "    y = random.randint(HAVUC_Y , H - HAVUC_Y )\n",
    "     # 0 ile 2*pi arasında rastgele bir açı seçme, havucun herhangi bir yöne doğru gidebilmesi için\n",
    "    angle = random.uniform(0, 2 * math.pi)\n",
    "    # Hız büyüklüğünü rastgele seçme\n",
    "    speed = random.uniform(SPEED_MIN, SPEED_MAX)\n",
    "    # Açıyı hız vektörüne dönüştürme (cos, sin)\n",
    "    vx = math.cos(angle) * speed # x eksenindeki sağa/sola hız bileşeni\n",
    "    vy = math.sin(angle) * speed # y eksenindeki yukarı/aşağı  hız bileşeni\n",
    "    # Konumu ve hızı (float) olarak döndürme\n",
    "    return [float(x), float(y)], [vx, vy]"
   ]
  },
  {
   "cell_type": "code",
   "execution_count": 19,
   "id": "04a14a63-0630-4c99-ae87-131048b7a1c5",
   "metadata": {},
   "outputs": [],
   "source": [
    "# Havuç çizimi\n",
    "def havuc_ciz(img, pos):\n",
    "    # Konumu tamsayıya çevirme\n",
    "    x, y = int(pos[0]), int(pos[1])\n",
    "    #Turuncu gövdesi için \n",
    "    cv2.circle(img, (x, y), HAVUC_Y, (0, 140, 255), -1)  # gövdesinin turuncu rengi  olması için (0, 140, 255) \n",
    "    cv2.line(img, (x, y - HAVUC_Y), (x, y - HAVUC_Y - 14), (0, 200, 0), 3) #Başlangıç noktası: (x, y - HAVUC_Y) Havuç dairesinin tam üst noktası ,Bitiş noktası: (x, y - HAVUC_Y - 14) O noktadan 14 piksel daha yukarı\n",
    "    #Yeşil sapı için \n",
    "    cv2.line(img, (x - 6, y - HAVUC_Y + 2), (x - 12, y - HAVUC_Y - 8), (0, 180, 0), 2)\n",
    "    cv2.line(img, (x + 6, y - HAVUC_Y + 2), (x + 12, y - HAVUC_Y - 8), (0, 180, 0), 2)"
   ]
  },
  {
   "cell_type": "code",
   "execution_count": 20,
   "id": "aca137c3-cef9-4065-a18a-8d55a5c4accd",
   "metadata": {},
   "outputs": [],
   "source": [
    "# Tavşan çizimi ( Kulakları,başı gövdesi,gözleri,ağzı)\n",
    "def tavsan_ciz(img, pos):\n",
    "     # Konumu tamsayıya çevirme\n",
    "    x, y = int(pos[0]), int(pos[1])\n",
    "    #Kulakları\n",
    "    cv2.ellipse(img, (x - 10, y - 28), (7, 18), 0, 0, 360, (245, 245, 245), -1)\n",
    "    cv2.ellipse(img, (x + 10, y - 28), (7, 18), 0, 0, 360, (245, 245, 245), -1)\n",
    "    # Baş / gövde\n",
    "    cv2.circle(img, (x, y), TAVSAN_Y, (255, 255, 255), -1)\n",
    "    #Gözler\n",
    "    cv2.circle(img, (x - 7, y - 5), 3, (0, 0, 0), -1)\n",
    "    cv2.circle(img, (x + 7, y - 5), 3, (0, 0, 0), -1)\n",
    "    #Burun ve ağız\n",
    "    cv2.circle(img, (x, y + 3), 2, (0, 0, 255), -1)\n",
    "    cv2.line(img, (x - 6, y + 10), (x - 1, y + 8), (0, 0, 0), 1)\n",
    "    cv2.line(img, (x + 6, y + 10), (x + 1, y + 8), (0, 0, 0), 1)\n"
   ]
  },
  {
   "cell_type": "code",
   "execution_count": 8,
   "id": "b7e67478-f810-47c9-978e-b2f907caad2e",
   "metadata": {},
   "outputs": [],
   "source": [
    "# İki nokta arası Öklidyen mesafe, Tavşan ile havucun çarpışıp çarpışmadığını kontrol etmek için:\n",
    "def mesafe(a, b):\n",
    "    dx = a[0] - b[0]\n",
    "    dy = a[1] - b[1]\n",
    "    return math.hypot(dx, dy)"
   ]
  },
  {
   "cell_type": "code",
   "execution_count": 9,
   "id": "45bf8a4e-a78d-4b03-9ece-70a40351cb0e",
   "metadata": {},
   "outputs": [],
   "source": [
    "# Ana fonksiyon: pencereyi açma, oyunu döngü içinde çalıştırma\n",
    "def main():\n",
    "    # Pencere oluşturma\n",
    "    cv2.namedWindow(\"Havucu Yakala\")\n",
    "    # Fare hareketlerini yakalayacak callback i bağlama\n",
    "    cv2.setMouseCallback(\"Havucu Yakala\", mouse_callback)\n",
    "\n",
    "    # İlk havucun konumu ve hızı\n",
    "    havuc_pos, havuc_vel = random_havuc()\n",
    "    skor = 0\n",
    "\n",
    "    # Her karede ekranı güncelleme\n",
    "    while True:\n",
    "        # Arka plan\n",
    "        frame = np.full((H, W, 3), BGCOLOR, dtype=np.uint8)\n",
    "\n",
    "        # Havuç konumunu hızı kadar değiştirmr \n",
    "        havuc_pos[0] += havuc_vel[0]\n",
    "        havuc_pos[1] += havuc_vel[1]\n",
    "\n",
    "        # Kenarlardan sekme (havuç duvara çarptığında yön değiştirir)\n",
    "        if havuc_pos[0] <= HAVUC_Y or havuc_pos[0] >= W - HAVUC_Y:\n",
    "            havuc_vel[0] *= -1\n",
    "            havuc_pos[0] = np.clip(havuc_pos[0], HAVUC_Y, W - HAVUC_Y)\n",
    "        if havuc_pos[1] <= HAVUC_Y or havuc_pos[1] >= H - HAVUC_Y:\n",
    "            havuc_vel[1] *= -1\n",
    "            havuc_pos[1] = np.clip(havuc_pos[1], HAVUC_Y, H - HAVUC_Y)\n",
    "\n",
    "        # Ekrana oyun nesnelerinin çizilmesi:\n",
    "        havuc_ciz(frame, havuc_pos)\n",
    "        tavsan_ciz(frame, (mouse_x, mouse_y))\n",
    "\n",
    "        \n",
    "        # Çarpışma kontrolü:\n",
    "        # Tavşanın (fare konumu) ve havucun merkezleri arasındaki uzaklığı piksel cinsinden hesaplama:\n",
    "        d = mesafe((mouse_x, mouse_y), havuc_pos)\n",
    "        \n",
    "        # Mesafe, iki yarıçapın toplamından küçük/eşitse \"yakalandı\" skoru artır\n",
    "        # Çarpışmada tavşanın yarıçapı %80 alınarak tam değmese bile yakalanmış sayılır.\n",
    "        if d <= (HAVUC_Y + TAVSAN_Y * 0.8):\n",
    "            skor += 1\n",
    "            # Yeni havuç üretme (konum+ hız rastgele)\n",
    "            havuc_pos, havuc_vel = random_havuc()\n",
    "\n",
    "        # Skor yazısı\n",
    "        cv2.putText(frame, f\"Skor: {skor}\", (15, 35), FONT, 1.0, (255, 255, 255), 2, cv2.LINE_AA)\n",
    "        cv2.putText(frame, \"ESC: cikis\", (15, 65), FONT, 0.6, (180, 180, 180), 1, cv2.LINE_AA)\n",
    "\n",
    "        # Oyun ekranını pencerede gösterme\n",
    "        cv2.imshow(\"Havucu Yakala\", frame)\n",
    "\n",
    "        # Her karede 16 ms bekler, bu sırada klavyeden basılan tuşu kontrol eder. Eğer ESC tuşuna basılmışsa oyun döngüsü sonlandırılır.\n",
    "        tus = cv2.waitKey(16) & 0xFF\n",
    "        if tus == 27:  # ESC\n",
    "            break\n",
    "    # Açık pencereyi kapatmak için \n",
    "    cv2.destroyAllWindows()"
   ]
  },
  {
   "cell_type": "code",
   "execution_count": 10,
   "id": "1ea09b24-dec5-4abc-8fae-209b86cdac66",
   "metadata": {},
   "outputs": [],
   "source": [
    "# main() fonksiyonunu başlatma\n",
    "if __name__ == \"__main__\":\n",
    "    main()"
   ]
  }
 ],
 "metadata": {
  "kernelspec": {
   "display_name": "Python 3 (ipykernel)",
   "language": "python",
   "name": "python3"
  },
  "language_info": {
   "codemirror_mode": {
    "name": "ipython",
    "version": 3
   },
   "file_extension": ".py",
   "mimetype": "text/x-python",
   "name": "python",
   "nbconvert_exporter": "python",
   "pygments_lexer": "ipython3",
   "version": "3.13.5"
  }
 },
 "nbformat": 4,
 "nbformat_minor": 5
}
